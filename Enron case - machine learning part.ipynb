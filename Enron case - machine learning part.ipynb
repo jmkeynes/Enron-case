{
 "cells": [
  {
   "cell_type": "markdown",
   "metadata": {
    "collapsed": false
   },
   "source": [
    "# 1. Load the data we just saved"
   ]
  },
  {
   "cell_type": "code",
   "execution_count": 2,
   "metadata": {
    "collapsed": true
   },
   "outputs": [],
   "source": [
    "import pandas as pd\n",
    "df=pd.read_csv('C:/Users/vecht499/Downloads/enron_data.csv',sep=';')"
   ]
  },
  {
   "cell_type": "code",
   "execution_count": 3,
   "metadata": {
    "collapsed": false
   },
   "outputs": [],
   "source": [
    "df=df[pd.notnull(df[\"text\"])] ## if text is not available, drop it\n",
    "df = df.reset_index(drop=True) ## reset index"
   ]
  },
  {
   "cell_type": "code",
   "execution_count": 4,
   "metadata": {
    "collapsed": false
   },
   "outputs": [
    {
     "data": {
      "text/plain": [
       "4981"
      ]
     },
     "execution_count": 4,
     "metadata": {},
     "output_type": "execute_result"
    }
   ],
   "source": [
    "len(df)\n",
    "## 3 records dropped"
   ]
  },
  {
   "cell_type": "markdown",
   "metadata": {},
   "source": [
    "# 2. Modelling part"
   ]
  },
  {
   "cell_type": "code",
   "execution_count": 5,
   "metadata": {
    "collapsed": true
   },
   "outputs": [],
   "source": [
    "import scipy\n",
    "import numpy as np\n",
    "import random\n",
    "from sklearn.feature_extraction.text import TfidfVectorizer\n",
    "from sklearn.cross_validation import train_test_split\n",
    "from sklearn.ensemble import RandomForestClassifier"
   ]
  },
  {
   "cell_type": "markdown",
   "metadata": {},
   "source": [
    "## 2.1. Get features: TF-IDF"
   ]
  },
  {
   "cell_type": "code",
   "execution_count": 171,
   "metadata": {
    "collapsed": false
   },
   "outputs": [],
   "source": [
    "random.seed(0)\n",
    "train, test = train_test_split(df, test_size = 0.2)"
   ]
  },
  {
   "cell_type": "code",
   "execution_count": 219,
   "metadata": {
    "collapsed": false
   },
   "outputs": [],
   "source": [
    "vectorizer = TfidfVectorizer( max_features = 40000,\n",
    "                              ngram_range = ( 2, 2),\n",
    "                              sublinear_tf = True )\n",
    "\n",
    "tfidf = vectorizer.fit_transform(train[\"text\"].tolist())\n",
    "feature_names = vectorizer.get_feature_names() "
   ]
  },
  {
   "cell_type": "markdown",
   "metadata": {},
   "source": [
    "## 2.2. A bit of data exploration"
   ]
  },
  {
   "cell_type": "code",
   "execution_count": 252,
   "metadata": {
    "collapsed": true
   },
   "outputs": [],
   "source": [
    "def get_n_typical_words(indices,n):\n",
    "    dense = tfidf.todense()\n",
    "    \n",
    "    x=list()\n",
    "    for i in indices:\n",
    "        x.append((dense[i]))\n",
    "        \n",
    "    dense1=np.vstack(x)\n",
    "    \n",
    "    email = np.mean(dense1, axis=0).tolist()[0]\n",
    "    phrase_scores = [pair for pair in zip(range(0, len((email))), email)]    \n",
    "    sorted_phrase_scores = sorted(phrase_scores, key=lambda t: t[1] * -1)\n",
    "    for phrase, score in [(feature_names[word_id], score) for (word_id, score) in sorted_phrase_scores][:n]:\n",
    "        print('{0: <20} {1}'.format(phrase, score))"
   ]
  },
  {
   "cell_type": "markdown",
   "metadata": {},
   "source": [
    "### 2.2.1. What are the typical spam phrases?"
   ]
  },
  {
   "cell_type": "code",
   "execution_count": 258,
   "metadata": {
    "collapsed": true
   },
   "outputs": [],
   "source": [
    "spam_indices=list()\n",
    "for i,e in enumerate(train[\"spam_ind\"].tolist()):\n",
    "    if e==1:\n",
    "        spam_indices.append(i)"
   ]
  },
  {
   "cell_type": "code",
   "execution_count": 259,
   "metadata": {
    "collapsed": false
   },
   "outputs": [
    {
     "name": "stdout",
     "output_type": "stream",
     "text": [
      "click removed        0.00722288960591\n",
      "font size            0.0068916305224\n",
      "font family          0.0061476493687\n",
      "advertisement solicitation 0.00581730754958\n",
      "best regards         0.00507782695612\n",
      "content disposition  0.00507115856738\n",
      "windows professional 0.00467365219761\n",
      "importance normal    0.00461014431947\n",
      "nice day             0.00453426413563\n",
      "adobe photoshop      0.00446721218985\n",
      "please click         0.00428074391693\n",
      "would like           0.00415251892292\n",
      "gif content          0.00396763941358\n",
      "soft tabs            0.00396719466726\n",
      "phone mobile         0.00386203560804\n",
      "office professional  0.00386146549455\n",
      "boundary unsent      0.00375614278258\n",
      "per dose             0.00364643046449\n",
      "looking statements   0.00348996870852\n",
      "attachment filename  0.00343239989127\n"
     ]
    }
   ],
   "source": [
    "get_n_typical_words(spam_indices,20)"
   ]
  },
  {
   "cell_type": "markdown",
   "metadata": {},
   "source": [
    "### 2.2.1. What are the typical ham phrases?"
   ]
  },
  {
   "cell_type": "code",
   "execution_count": 256,
   "metadata": {
    "collapsed": true
   },
   "outputs": [],
   "source": [
    "ham_indices=list()\n",
    "for i,e in enumerate(train[\"spam_ind\"].tolist()):\n",
    "    if e==0:\n",
    "        ham_indices.append(i)"
   ]
  },
  {
   "cell_type": "code",
   "execution_count": 257,
   "metadata": {
    "collapsed": false
   },
   "outputs": [
    {
     "name": "stdout",
     "output_type": "stream",
     "text": [
      "let know             0.0254608969654\n",
      "original sent        0.0188256345271\n",
      "please let           0.0160826486897\n",
      "california scheduling 0.0146386035518\n",
      "file portland        0.0146386035518\n",
      "final schedules      0.0146386035518\n",
      "iso final            0.0146386035518\n",
      "log messages         0.0146386035518\n",
      "messages parsing     0.0146386035518\n",
      "parsing file         0.0146386035518\n",
      "portland westdesk    0.0146386035518\n",
      "schedules txt        0.0146386035518\n",
      "scheduling iso       0.0146386035518\n",
      "westdesk california  0.0146386035518\n",
      "would like           0.0114947905761\n",
      "please call          0.00894028087236\n",
      "see attached         0.00878411977512\n",
      "vince kaminski       0.00795133650871\n",
      "next week            0.00737889750937\n",
      "ect ect              0.00727318525552\n"
     ]
    }
   ],
   "source": [
    "get_n_typical_words(ham_indices,20)"
   ]
  },
  {
   "cell_type": "markdown",
   "metadata": {},
   "source": [
    "## 2.3. Logistic regression"
   ]
  },
  {
   "cell_type": "code",
   "execution_count": 260,
   "metadata": {
    "collapsed": true
   },
   "outputs": [],
   "source": [
    "from sklearn.linear_model import LogisticRegression\n",
    "model = LogisticRegression()\n",
    "\n",
    "train_data_features=tfidf.toarray()\n",
    "model = model.fit(train_data_features, train[\"spam_ind\"])"
   ]
  },
  {
   "cell_type": "code",
   "execution_count": 261,
   "metadata": {
    "collapsed": true
   },
   "outputs": [],
   "source": [
    "test_data_features = vectorizer.transform(test[\"text\"].tolist()).toarray()\n",
    "probs = model.predict_proba(test_data_features)\n",
    "result=[probs[x][1] for x in range(len(probs)) ]"
   ]
  },
  {
   "cell_type": "markdown",
   "metadata": {},
   "source": [
    "### 10-fold cross validation to check mean accuracy (threshold standard 50%) : comparable!"
   ]
  },
  {
   "cell_type": "code",
   "execution_count": 266,
   "metadata": {
    "collapsed": false
   },
   "outputs": [],
   "source": [
    "from sklearn import cross_validation\n",
    "scores = cross_validation.cross_val_score(model,train_data_features, train[\"spam_ind\"], cv=10)"
   ]
  },
  {
   "cell_type": "code",
   "execution_count": 267,
   "metadata": {
    "collapsed": false
   },
   "outputs": [
    {
     "data": {
      "text/plain": [
       "array([ 0.89473684,  0.90726817,  0.88471178,  0.87468672,  0.88972431,\n",
       "        0.88693467,  0.88190955,  0.88944724,  0.88944724,  0.88664987])"
      ]
     },
     "execution_count": 267,
     "metadata": {},
     "output_type": "execute_result"
    }
   ],
   "source": [
    "scores"
   ]
  },
  {
   "cell_type": "code",
   "execution_count": 284,
   "metadata": {
    "collapsed": false
   },
   "outputs": [
    {
     "data": {
      "text/plain": [
       "0.8906720160481444"
      ]
     },
     "execution_count": 284,
     "metadata": {},
     "output_type": "execute_result"
    }
   ],
   "source": [
    "df_result_logit=pd.DataFrame({'ind':test[\"spam_ind\"].tolist(),'score':result})\n",
    "df_result_logit['prediction']=np.where(df_result_logit['score']>=0.5,1,0)\n",
    "float(len(df_result_logit[df_result_logit['ind']==df_result_logit['prediction']]))/float(len(df_result_logit))"
   ]
  },
  {
   "cell_type": "markdown",
   "metadata": {},
   "source": [
    "### Model performance: ROC + AUC\n",
    "Note: Estimating optimized accuracy is shown later in the Bonus part (done in R) "
   ]
  },
  {
   "cell_type": "code",
   "execution_count": 262,
   "metadata": {
    "collapsed": true
   },
   "outputs": [],
   "source": [
    "from sklearn.metrics import roc_curve, auc\n",
    "import numpy as np\n",
    "\n",
    "y_test=np.asarray(test[\"spam_ind\"].tolist())\n",
    "y_score=np.asarray(result)\n",
    "\n",
    "# Compute ROC curve and ROC area for each class\n",
    "fpr = dict()\n",
    "tpr = dict()\n",
    "roc_auc = dict()\n",
    "for i in range(len(result_df)):\n",
    "    fpr[i], tpr[i], _ = roc_curve(y_test, y_score)\n",
    "    roc_auc[i] = auc(fpr[i], tpr[i])"
   ]
  },
  {
   "cell_type": "code",
   "execution_count": 263,
   "metadata": {
    "collapsed": false
   },
   "outputs": [
    {
     "data": {
      "text/plain": [
       "0.98334515628463759"
      ]
     },
     "execution_count": 263,
     "metadata": {},
     "output_type": "execute_result"
    }
   ],
   "source": [
    "fpr[\"micro\"], tpr[\"micro\"], _ = roc_curve(y_test.ravel(), y_score.ravel())\n",
    "roc_auc[\"micro\"] = auc(fpr[\"micro\"], tpr[\"micro\"])\n",
    "roc_auc[\"micro\"]"
   ]
  },
  {
   "cell_type": "code",
   "execution_count": 264,
   "metadata": {
    "collapsed": false
   },
   "outputs": [
    {
     "data": {
      "text/plain": [
       "[<matplotlib.lines.Line2D at 0x173b6400>]"
      ]
     },
     "execution_count": 264,
     "metadata": {},
     "output_type": "execute_result"
    },
    {
     "data": {
      "image/png": "[encoded data removed]",
      "text/plain": [
       "<matplotlib.figure.Figure at 0x127e6ac8>"
      ]
     },
     "metadata": {},
     "output_type": "display_data"
    }
   ],
   "source": [
    "import matplotlib.pyplot as plt\n",
    "%matplotlib inline\n",
    "\n",
    "plt.figure()\n",
    "plt.plot(fpr[\"micro\"], tpr[\"micro\"],\n",
    "         label='micro-average ROC curve (area = {0:0.2f})'\n",
    "               ''.format(roc_auc[\"micro\"]),\n",
    "         linewidth=5)"
   ]
  },
  {
   "cell_type": "markdown",
   "metadata": {},
   "source": [
    "## 2.4. Random forest"
   ]
  },
  {
   "cell_type": "code",
   "execution_count": 289,
   "metadata": {
    "collapsed": false
   },
   "outputs": [],
   "source": [
    "forest = RandomForestClassifier(n_estimators = 100) \n",
    "forest = forest.fit(train_data_features, train[\"spam_ind\"] )"
   ]
  },
  {
   "cell_type": "code",
   "execution_count": 290,
   "metadata": {
    "collapsed": false
   },
   "outputs": [],
   "source": [
    "test_data_features = vectorizer.transform(test[\"text\"].tolist()).toarray()\n",
    "#result = forest.predict(test_data_features)\n",
    "result = forest.predict_proba(test_data_features)\n",
    "result=[result[x][1] for x in range(len(result)) ]"
   ]
  },
  {
   "cell_type": "code",
   "execution_count": 291,
   "metadata": {
    "collapsed": true
   },
   "outputs": [],
   "source": [
    "df_result_rf=pd.DataFrame({'ind':test[\"spam_ind\"].tolist(),'score':result})"
   ]
  },
  {
   "cell_type": "code",
   "execution_count": 292,
   "metadata": {
    "collapsed": false
   },
   "outputs": [],
   "source": [
    "y_test=np.asarray(test[\"spam_ind\"].tolist())\n",
    "y_score=np.asarray(result)\n",
    "\n",
    "# Compute ROC curve and ROC area for each class\n",
    "fpr = dict()\n",
    "tpr = dict()\n",
    "roc_auc = dict()\n",
    "for i in range(len(result_df)):\n",
    "    fpr[i], tpr[i], _ = roc_curve(y_test, y_score)\n",
    "    roc_auc[i] = auc(fpr[i], tpr[i])"
   ]
  },
  {
   "cell_type": "code",
   "execution_count": 293,
   "metadata": {
    "collapsed": false
   },
   "outputs": [
    {
     "data": {
      "text/plain": [
       "0.97783861671469741"
      ]
     },
     "execution_count": 293,
     "metadata": {},
     "output_type": "execute_result"
    }
   ],
   "source": [
    "fpr[\"micro\"], tpr[\"micro\"], _ = roc_curve(y_test.ravel(), y_score.ravel())\n",
    "roc_auc[\"micro\"] = auc(fpr[\"micro\"], tpr[\"micro\"])\n",
    "roc_auc[\"micro\"]"
   ]
  },
  {
   "cell_type": "code",
   "execution_count": 294,
   "metadata": {
    "collapsed": false
   },
   "outputs": [
    {
     "data": {
      "text/plain": [
       "[<matplotlib.lines.Line2D at 0x3467fa58>]"
      ]
     },
     "execution_count": 294,
     "metadata": {},
     "output_type": "execute_result"
    },
    {
     "data": {
      "image/png": "[encoded data removed]",
      "text/plain": [
       "<matplotlib.figure.Figure at 0x214c0710>"
      ]
     },
     "metadata": {},
     "output_type": "display_data"
    }
   ],
   "source": [
    "import matplotlib.pyplot as plt\n",
    "%matplotlib inline\n",
    "\n",
    "plt.figure()\n",
    "plt.plot(fpr[\"micro\"], tpr[\"micro\"],\n",
    "         label='micro-average ROC curve (area = {0:0.2f})'\n",
    "               ''.format(roc_auc[\"micro\"]),\n",
    "         linewidth=5)"
   ]
  },
  {
   "cell_type": "markdown",
   "metadata": {},
   "source": [
    "# 3. Bonus: rpy2. Combine R and Python in the same notebook\n",
    "## Compute optimal threshold for accuracy\n",
    "In order to run it you need R kernel in the notebook, rpy2 and patience :-)\n",
    "\n",
    "For more details: https://www.youtube.com/watch?v=T385txAYSt8&list=PL9rxFaZze-woP-1pmqy5Z2-A_zq0Zgl6d\n"
   ]
  },
  {
   "cell_type": "code",
   "execution_count": 295,
   "metadata": {
    "collapsed": true
   },
   "outputs": [],
   "source": [
    "%reload_ext rpy2.ipython"
   ]
  },
  {
   "cell_type": "markdown",
   "metadata": {},
   "source": [
    "### Load some functions"
   ]
  },
  {
   "cell_type": "code",
   "execution_count": 302,
   "metadata": {
    "collapsed": false
   },
   "outputs": [
    {
     "data": {
      "text/plain": [
       "array(['plyr', 'ggplot2', 'dplyr', 'tools', 'stats', 'graphics',\n",
       "       'grDevices', 'utils', 'datasets', 'methods', 'base'], \n",
       "      dtype='|S9')"
      ]
     },
     "execution_count": 302,
     "metadata": {},
     "output_type": "execute_result"
    }
   ],
   "source": [
    "%R library(plyr)\n",
    "%R library(dplyr)\n",
    "%R library(ggplot2)"
   ]
  },
  {
   "cell_type": "code",
   "execution_count": 297,
   "metadata": {
    "collapsed": true
   },
   "outputs": [],
   "source": [
    "%%R\n",
    "getTestResults <- function(scores,  labels) {\n",
    "df <- data.frame(labels = labels,\n",
    "                   scores = scores,\n",
    "                   dummy = 1)\n",
    "num_customers <- nrow(df)\n",
    "num_target <- sum(df$labels)\n",
    "df %>% arrange(desc(scores)) %>%\n",
    "    mutate(\n",
    "      population = cumsum(dummy) / num_customers,\n",
    "      target_population = cumsum(labels) / num_target,\n",
    "      true_positives = cumsum(labels),\n",
    "      false_positives = cumsum(dummy) - cumsum(labels),\n",
    "      true_negatives = (num_customers - num_target - cumsum(dummy) +\n",
    "                          cumsum(labels)),\n",
    "      false_negatives = num_target - cumsum(labels)\n",
    "    ) %>%\n",
    "    select(\n",
    "      scores,\n",
    "      labels,\n",
    "      population,\n",
    "      target_population,\n",
    "      true_positives,\n",
    "      false_positives,\n",
    "      true_negatives,\n",
    "      false_negatives\n",
    "    )\n",
    "}\n"
   ]
  },
  {
   "cell_type": "code",
   "execution_count": 298,
   "metadata": {
    "collapsed": true
   },
   "outputs": [],
   "source": [
    "%R -i df_result_rf\n",
    "%R -i df_result_logit"
   ]
  },
  {
   "cell_type": "code",
   "execution_count": 309,
   "metadata": {
    "collapsed": false
   },
   "outputs": [
    {
     "data": {
      "text/html": [
       "<div>\n",
       "<table border=\"1\" class=\"dataframe\">\n",
       "  <thead>\n",
       "    <tr style=\"text-align: right;\">\n",
       "      <th></th>\n",
       "      <th>scores</th>\n",
       "      <th>labels</th>\n",
       "      <th>population</th>\n",
       "      <th>target_population</th>\n",
       "      <th>true_positives</th>\n",
       "      <th>false_positives</th>\n",
       "      <th>true_negatives</th>\n",
       "      <th>false_negatives</th>\n",
       "      <th>accuracy</th>\n",
       "    </tr>\n",
       "  </thead>\n",
       "  <tbody>\n",
       "    <tr>\n",
       "      <th>1</th>\n",
       "      <td>0.60625</td>\n",
       "      <td>1</td>\n",
       "      <td>0.664995</td>\n",
       "      <td>0.963077</td>\n",
       "      <td>626</td>\n",
       "      <td>37</td>\n",
       "      <td>310</td>\n",
       "      <td>24</td>\n",
       "      <td>0.938816</td>\n",
       "    </tr>\n",
       "  </tbody>\n",
       "</table>\n",
       "</div>"
      ],
      "text/plain": [
       "    scores  labels  population  target_population  true_positives  \\\n",
       "1  0.60625       1    0.664995           0.963077             626   \n",
       "\n",
       "   false_positives  true_negatives  false_negatives  accuracy  \n",
       "1               37             310               24  0.938816  "
      ]
     },
     "execution_count": 309,
     "metadata": {},
     "output_type": "execute_result"
    }
   ],
   "source": [
    "%R results_rf=getTestResults(df_result_rf$score,df_result_rf$ind)\n",
    "%R results_rf$accuracy=(results_rf$true_positives+results_rf$true_negatives)/nrow(results_rf)\n",
    "%R head(arrange(results_rf,desc(results_rf$accuracy)),1)\n",
    "## threshold in score: >=0.60625 -> accuracy 94%"
   ]
  },
  {
   "cell_type": "code",
   "execution_count": 310,
   "metadata": {
    "collapsed": false
   },
   "outputs": [
    {
     "data": {
      "text/html": [
       "<div>\n",
       "<table border=\"1\" class=\"dataframe\">\n",
       "  <thead>\n",
       "    <tr style=\"text-align: right;\">\n",
       "      <th></th>\n",
       "      <th>scores</th>\n",
       "      <th>labels</th>\n",
       "      <th>population</th>\n",
       "      <th>target_population</th>\n",
       "      <th>true_positives</th>\n",
       "      <th>false_positives</th>\n",
       "      <th>true_negatives</th>\n",
       "      <th>false_negatives</th>\n",
       "      <th>accuracy</th>\n",
       "    </tr>\n",
       "  </thead>\n",
       "  <tbody>\n",
       "    <tr>\n",
       "      <th>1</th>\n",
       "      <td>0.635656</td>\n",
       "      <td>1</td>\n",
       "      <td>0.674022</td>\n",
       "      <td>0.976923</td>\n",
       "      <td>635</td>\n",
       "      <td>37</td>\n",
       "      <td>310</td>\n",
       "      <td>15</td>\n",
       "      <td>0.947844</td>\n",
       "    </tr>\n",
       "  </tbody>\n",
       "</table>\n",
       "</div>"
      ],
      "text/plain": [
       "     scores  labels  population  target_population  true_positives  \\\n",
       "1  0.635656       1    0.674022           0.976923             635   \n",
       "\n",
       "   false_positives  true_negatives  false_negatives  accuracy  \n",
       "1               37             310               15  0.947844  "
      ]
     },
     "execution_count": 310,
     "metadata": {},
     "output_type": "execute_result"
    }
   ],
   "source": [
    "%R results_logit=getTestResults(df_result_logit$score,df_result_logit$ind)\n",
    "%R results_logit$accuracy=(results_logit$true_positives+results_logit$true_negatives)/nrow(results_logit)\n",
    "%R head(arrange(results_logit,desc(results_logit$accuracy)),1)\n",
    "## threshold in score: >=0.635656 -> accuracy 95%"
   ]
  },
  {
   "cell_type": "markdown",
   "metadata": {},
   "source": [
    "# Logistic regression wins!"
   ]
  }
 ],
 "metadata": {
  "kernelspec": {
   "display_name": "Python 2",
   "language": "python",
   "name": "python2"
  },
  "language_info": {
   "codemirror_mode": {
    "name": "ipython",
    "version": 2
   },
   "file_extension": ".py",
   "mimetype": "text/x-python",
   "name": "python",
   "nbconvert_exporter": "python",
   "pygments_lexer": "ipython2",
   "version": "2.7.12"
  }
 },
 "nbformat": 4,
 "nbformat_minor": 0
}
