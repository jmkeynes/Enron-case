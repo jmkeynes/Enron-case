{
 "cells": [
  {
   "cell_type": "markdown",
   "metadata": {
    "collapsed": true
   },
   "source": [
    "# Download the data using urllib2 and Beautifulsoup"
   ]
  },
  {
   "cell_type": "code",
   "execution_count": 92,
   "metadata": {
    "collapsed": false
   },
   "outputs": [],
   "source": [
    "import urllib2\n",
    "from bs4 import BeautifulSoup\n",
    "import os"
   ]
  },
  {
   "cell_type": "code",
   "execution_count": null,
   "metadata": {
    "collapsed": true
   },
   "outputs": [],
   "source": [
    "def create_relevant_links(page,relevant_text):\n",
    "    page = urllib2.urlopen(page).read()\n",
    "    relevant_links=list()\n",
    "    for i in range(len(BeautifulSoup(page).find_all('a'))):\n",
    "        if BeautifulSoup(page).find_all('a')[i][\"href\"].find(relevant_text)!=-1:\n",
    "            relevant_links.append(BeautifulSoup(page).find_all('a')[i][\"href\"])\n",
    "    return relevant_links"
   ]
  },
  {
   "cell_type": "code",
   "execution_count": 10,
   "metadata": {
    "collapsed": false
   },
   "outputs": [],
   "source": [
    "## get the links to download from\n",
    "page='http://www.aueb.gr/users/ion/data/enron-spam/'\n",
    "relevant_text=\"enron-spam/raw\"\n",
    "relevant_links=create_relevant_links(page,relevant_text)"
   ]
  },
  {
   "cell_type": "code",
   "execution_count": 20,
   "metadata": {
    "collapsed": false
   },
   "outputs": [],
   "source": [
    "## save files in system (raw/ham and raw/spam directories)\n",
    "\n",
    "for link in relevant_links:\n",
    "    f = urllib2.urlopen(link)\n",
    "    data = f.read()\n",
    "    if link.find('raw/ham/')!=-1:\n",
    "        with open(os.path.join('raw/ham',link.partition('raw/ham/')[2]), \"wb\") as code:\n",
    "            code.write(data)\n",
    "            code.close()\n",
    "    else:\n",
    "        with open(os.path.join('raw/spam',link.partition('raw/spam/')[2]), \"wb\") as code:\n",
    "            code.write(data)\n",
    "            code.close()"
   ]
  },
  {
   "cell_type": "markdown",
   "metadata": {},
   "source": [
    "# Process the data: untar, clean files, get pandas dataframe; write to csv"
   ]
  },
  {
   "cell_type": "code",
   "execution_count": 93,
   "metadata": {
    "collapsed": false
   },
   "outputs": [],
   "source": [
    "import re\n",
    "import tarfile\n",
    "import subprocess\n",
    "import unidecode\n",
    "import random\n",
    "import pandas as pd\n",
    "import nltk\n",
    "from nltk.corpus import stopwords"
   ]
  },
  {
   "cell_type": "code",
   "execution_count": 195,
   "metadata": {
    "collapsed": false
   },
   "outputs": [],
   "source": [
    "def clean_html(file):\n",
    "    # First remove inline JavaScript/CSS:\n",
    "    your_text = file.partition('Subject:')[2]\n",
    "    your_text = BeautifulSoup(your_text).get_text()\n",
    "    ## Forwarded emails removed (necessary?)\n",
    "    cleaned=your_text.partition('---------------------- Forwarded by')[0]\n",
    "    ## Extra correction:\n",
    "    cleaned = re.sub(r\"(?is)<(script|style).*?>.*?(</\\1>)\", \"\", cleaned)\n",
    "    a=[x for x in cleaned.split(\"\\n\") if (x!='' and  x!=' ' and x!='  '\n",
    "                and x.find('Date:')==-1 and x.find('X-Mailer:')==-1 and x.find('Content-Type:')==-1\n",
    "                and x.find('From:')==-1 and x.find('X-Priority:')==-1 and x.find('Content-Transfer-Encoding:')==-1\n",
    "                and x.find('Content-Length:')==-1 and x.find('Lines:')==-1 and x.find('MIME')==-1\n",
    "                and x.find('X-MimeOLE:')==-1 and x.find('X-MSMail-Priority:')==-1\n",
    "                and x.find('Content-Description:')==-1 and x.find('X-Qmail-Scanner-Message-ID:')==-1\n",
    "                and x.find('From:')==-1 and x.find('To:')==-1 and x.find('Message-ID:')==-1\n",
    "                and x.find('Received:')==-1 and x.find('Return-Path:')==-1\n",
    "                and x.find('Delivered-To:')==-1 and x.find('Processed in')==-1\n",
    "                and x.find('Mime-Version:')==-1 and x.find('Cc:')==-1 and x.find('Bcc:')==-1\n",
    "                and x.find('X-bcc:')==-1 and x.find('charset')==-1\n",
    "                and x.find('boundary=:')==-1 and x.find('SMTP')==-1\n",
    "                and x.find('Message-Id:')==-1 and x.find('@enron.com')==-1\n",
    "                and x.find('X-Status:')==-1 and x.find('X-Keywords:')==-1\n",
    "                and x.find('X-cc:')==-1 and x.find('X-Origin:')==-1 and x.find('X-FileName:')==-1)]\n",
    "    result=  \"\\n\".join(a)\n",
    "    ##Encoding\n",
    "    result = re.sub(\"[^a-zA-Z]\", \" \", result)\n",
    "    result=unidecode.unidecode(result.decode('ascii'))\n",
    "    result = re.sub(\"[^a-zA-Z]\", \" \", result)\n",
    "    result = re.sub(\"  \", \" \", result)\n",
    "    result=result.lower()\n",
    "    return result"
   ]
  },
  {
   "cell_type": "code",
   "execution_count": 26,
   "metadata": {
    "collapsed": false
   },
   "outputs": [
    {
     "name": "stdout",
     "output_type": "stream",
     "text": [
      "Files in raw/ham/\n",
      "Processing kaminski-v.tar.gz\n",
      "Processing beck-s.tar.gz\n",
      "Processing williams-w3.tar.gz\n",
      "Processing kitchen-l.tar.gz\n",
      "Processing lokay-m.tar.gz\n",
      "Processing farmer-d.tar.gz\n",
      "Done\n",
      "Files in raw/spam/\n",
      "Processing SH.tar.gz\n",
      "Processing GP.tar.gz\n",
      "Processing BG.tar.gz\n",
      "Done\n"
     ]
    }
   ],
   "source": [
    "## First untar the files\n",
    "raw_path = ['raw/ham/','raw/spam/']\n",
    "\n",
    "for path in raw_path:\n",
    "    for root, dir, files in os.walk(path):\n",
    "        print 'Files in ' + root[:]\n",
    "\n",
    "    # untar tar.gz files one by one\n",
    "        for file in files:\n",
    "            print 'Processing ' + file\n",
    "            file_path = root+file\n",
    "            tar = tarfile.open(file_path)\n",
    "            names = tar.getnames()\n",
    "            tar.extractall(path)\n",
    "            tar.close()            "
   ]
  },
  {
   "cell_type": "code",
   "execution_count": 77,
   "metadata": {
    "collapsed": false
   },
   "outputs": [],
   "source": [
    "## Make a list of all text files present in untared files:\n",
    "file_str = subprocess.check_output('find raw/ -type f', shell=True)\n",
    "file_list = [ x for x in file_str.splitlines() if not x.endswith('tar.gz')]\n",
    "\n",
    "## To make everything faster, let´s select 5000 elements randomly\n",
    "random.seed(0)\n",
    "sample = random.sample(file_list, 5000)"
   ]
  },
  {
   "cell_type": "code",
   "execution_count": 87,
   "metadata": {
    "collapsed": false
   },
   "outputs": [
    {
     "name": "stdout",
     "output_type": "stream",
     "text": [
      "The whole list contains 52076 emails. 63.3458790998 percent of the whole list is spam.\n",
      "The sample list contains 5000 emails. 64.76 percent of the sample list is spam.\n"
     ]
    }
   ],
   "source": [
    "spam_number1=[1 if file_list[i].find('raw/ham/')==-1 else 0 for i in range(len(file_list))]\n",
    "spam_number2=[1 if sample[i].find('raw/ham/')==-1 else 0 for i in range(len(sample))]\n",
    "print \"The whole list contains %d emails. %s percent of the whole list is spam.\" %(len(spam_number1),float(sum(spam_number1))/float(len(file_list))*100)\n",
    "print \"The sample list contains %d emails. %s percent of the sample list is spam.\" %(len(spam_number2),float(sum(spam_number2))/float(len(sample))*100)\n",
    "\n",
    "## sample and the whole list are comparable\n",
    "## to be sure, I also compared number of emails from different folders im sample and in the full list;\n",
    "## they were comparable as well"
   ]
  },
  {
   "cell_type": "code",
   "execution_count": 196,
   "metadata": {
    "collapsed": false
   },
   "outputs": [
    {
     "data": {
      "text/plain": [
       "0"
      ]
     },
     "execution_count": 196,
     "metadata": {},
     "output_type": "execute_result"
    }
   ],
   "source": [
    "# recreate ham&spam directories in pre/\n",
    "subprocess.check_call('sh remove_make_dir.sh', shell=True)"
   ]
  },
  {
   "cell_type": "code",
   "execution_count": 197,
   "metadata": {
    "collapsed": false
   },
   "outputs": [],
   "source": [
    "## safe cleaned sample in pre/ham and pre/spam\n",
    "\n",
    "for i in sample:\n",
    "    raw_html = open(i, 'r').read()\n",
    "    cleaned_html = clean_html(raw_html)\n",
    "    if i.find('raw/ham/')!=-1:\n",
    "        with open(os.path.join('pre/ham',re.sub(\"/\",\"_\",i.partition('raw/ham/')[2])+'.txt'), \"wb\") as code:\n",
    "            code.write(cleaned_html)\n",
    "            code.close()\n",
    "    else: \n",
    "        with open(os.path.join('pre/spam',re.sub(\"/\",\"_\",i.partition('raw/spam/')[2])+'.txt'), \"wb\") as code:\n",
    "            code.write(cleaned_html)  \n",
    "            code.close()"
   ]
  },
  {
   "cell_type": "code",
   "execution_count": 198,
   "metadata": {
    "collapsed": false
   },
   "outputs": [],
   "source": [
    "spam_path = 'pre/spam'\n",
    "ham_path = 'pre/ham'\n",
    "spam_dir = os.listdir(spam_path)\n",
    "ham_dir = os.listdir(ham_path)\n",
    "spam_filelist= [os.path.join(spam_path, f) for f in spam_dir]\n",
    "ham_filelist = [os.path.join(ham_path, f) for f in ham_dir]"
   ]
  },
  {
   "cell_type": "code",
   "execution_count": 203,
   "metadata": {
    "collapsed": false
   },
   "outputs": [],
   "source": [
    "spam_text=[]\n",
    "ham_text=[]\n",
    "stops = set(stopwords.words(\"english\")+['subject','message','mail','email','http','nextpart','rfkindysadvnqw','nerasdf'])\n",
    "\n",
    "for i  in spam_filelist:\n",
    "    spam_text.append(' '.join([e for e in open(i, 'r').read().split() if len(e)>2 and len(e)<20 and e not in stops]))\n",
    "for i  in ham_filelist:\n",
    "    ham_text.append(' '.join([e for e in open(i, 'r').read().split() if len(e)>2 and len(e)<20 and e not in stops]))\n",
    "text=spam_text+ham_text\n",
    "labels=[1]*len(spam_text)+[0]*len(ham_text)"
   ]
  },
  {
   "cell_type": "code",
   "execution_count": 204,
   "metadata": {
    "collapsed": false
   },
   "outputs": [
    {
     "data": {
      "text/html": [
       "<div>\n",
       "<table border=\"1\" class=\"dataframe\">\n",
       "  <thead>\n",
       "    <tr style=\"text-align: right;\">\n",
       "      <th></th>\n",
       "      <th>spam_ind</th>\n",
       "      <th>text</th>\n",
       "    </tr>\n",
       "  </thead>\n",
       "  <tbody>\n",
       "    <tr>\n",
       "      <th>0</th>\n",
       "      <td>1</td>\n",
       "      <td>bargain prescripiton pills ephemeral command e...</td>\n",
       "    </tr>\n",
       "    <tr>\n",
       "      <th>1</th>\n",
       "      <td>1</td>\n",
       "      <td>chance get new logo user agent squirrelmail bo...</td>\n",
       "    </tr>\n",
       "    <tr>\n",
       "      <th>2</th>\n",
       "      <td>1</td>\n",
       "      <td>buy regalis also known superviagra cialis buy ...</td>\n",
       "    </tr>\n",
       "    <tr>\n",
       "      <th>3</th>\n",
       "      <td>1</td>\n",
       "      <td>cia llis softabs best boundary vxc page hello ...</td>\n",
       "    </tr>\n",
       "    <tr>\n",
       "      <th>4</th>\n",
       "      <td>1</td>\n",
       "      <td>shrugging shrugging cormier tra hroksd fbbgg b...</td>\n",
       "    </tr>\n",
       "    <tr>\n",
       "      <th>5</th>\n",
       "      <td>1</td>\n",
       "      <td>facilitate facilitate pardon abruptness libert...</td>\n",
       "    </tr>\n",
       "    <tr>\n",
       "      <th>6</th>\n",
       "      <td>1</td>\n",
       "      <td>medz foreveer boundary unsent hello england co...</td>\n",
       "    </tr>\n",
       "    <tr>\n",
       "      <th>7</th>\n",
       "      <td>1</td>\n",
       "      <td>best prices anywhere net seq uxlp never see do...</td>\n",
       "    </tr>\n",
       "    <tr>\n",
       "      <th>8</th>\n",
       "      <td>1</td>\n",
       "      <td>phamacy online storyteller boundary boundary g...</td>\n",
       "    </tr>\n",
       "    <tr>\n",
       "      <th>9</th>\n",
       "      <td>1</td>\n",
       "      <td>proscrastinate per year msmail priority normal...</td>\n",
       "    </tr>\n",
       "    <tr>\n",
       "      <th>10</th>\n",
       "      <td>1</td>\n",
       "      <td>forbruceg million faces rcpsite organization r...</td>\n",
       "    </tr>\n",
       "    <tr>\n",
       "      <th>11</th>\n",
       "      <td>1</td>\n",
       "      <td>dude look younger lose weight weeks dietary th...</td>\n",
       "    </tr>\n",
       "    <tr>\n",
       "      <th>12</th>\n",
       "      <td>1</td>\n",
       "      <td>hard even cuumm leave hanging tonight generic ...</td>\n",
       "    </tr>\n",
       "    <tr>\n",
       "      <th>13</th>\n",
       "      <td>1</td>\n",
       "      <td>penis enhancement system works countless men w...</td>\n",
       "    </tr>\n",
       "    <tr>\n",
       "      <th>14</th>\n",
       "      <td>1</td>\n",
       "      <td>get intouch agent immediatly get intouch agent...</td>\n",
       "    </tr>\n",
       "    <tr>\n",
       "      <th>15</th>\n",
       "      <td>1</td>\n",
       "      <td>fda approved drugs internet aldehyde escheat b...</td>\n",
       "    </tr>\n",
       "    <tr>\n",
       "      <th>16</th>\n",
       "      <td>1</td>\n",
       "      <td>biz info boundary www mybizzpro com billon dol...</td>\n",
       "    </tr>\n",
       "    <tr>\n",
       "      <th>17</th>\n",
       "      <td>1</td>\n",
       "      <td>cheap pharmacy cheap pharmacy would like cheap...</td>\n",
       "    </tr>\n",
       "    <tr>\n",
       "      <th>18</th>\n",
       "      <td>1</td>\n",
       "      <td>winning notification winning notification lott...</td>\n",
       "    </tr>\n",
       "    <tr>\n",
       "      <th>19</th>\n",
       "      <td>1</td>\n",
       "      <td>advert paliourg man sony vaio</td>\n",
       "    </tr>\n",
       "  </tbody>\n",
       "</table>\n",
       "</div>"
      ],
      "text/plain": [
       "    spam_ind                                               text\n",
       "0          1  bargain prescripiton pills ephemeral command e...\n",
       "1          1  chance get new logo user agent squirrelmail bo...\n",
       "2          1  buy regalis also known superviagra cialis buy ...\n",
       "3          1  cia llis softabs best boundary vxc page hello ...\n",
       "4          1  shrugging shrugging cormier tra hroksd fbbgg b...\n",
       "5          1  facilitate facilitate pardon abruptness libert...\n",
       "6          1  medz foreveer boundary unsent hello england co...\n",
       "7          1  best prices anywhere net seq uxlp never see do...\n",
       "8          1  phamacy online storyteller boundary boundary g...\n",
       "9          1  proscrastinate per year msmail priority normal...\n",
       "10         1  forbruceg million faces rcpsite organization r...\n",
       "11         1  dude look younger lose weight weeks dietary th...\n",
       "12         1  hard even cuumm leave hanging tonight generic ...\n",
       "13         1  penis enhancement system works countless men w...\n",
       "14         1  get intouch agent immediatly get intouch agent...\n",
       "15         1  fda approved drugs internet aldehyde escheat b...\n",
       "16         1  biz info boundary www mybizzpro com billon dol...\n",
       "17         1  cheap pharmacy cheap pharmacy would like cheap...\n",
       "18         1  winning notification winning notification lott...\n",
       "19         1                      advert paliourg man sony vaio"
      ]
     },
     "execution_count": 204,
     "metadata": {},
     "output_type": "execute_result"
    }
   ],
   "source": [
    "df=pd.DataFrame(data={'text': text,'spam_ind': labels})\n",
    "df.head(20)"
   ]
  },
  {
   "cell_type": "code",
   "execution_count": 205,
   "metadata": {
    "collapsed": false
   },
   "outputs": [],
   "source": [
    "df.to_csv('enron_data.csv',sep=';',index=False)"
   ]
  }
 ],
 "metadata": {
  "kernelspec": {
   "display_name": "Python 2",
   "language": "python",
   "name": "python2"
  },
  "language_info": {
   "codemirror_mode": {
    "name": "ipython",
    "version": 2
   },
   "file_extension": ".py",
   "mimetype": "text/x-python",
   "name": "python",
   "nbconvert_exporter": "python",
   "pygments_lexer": "ipython2",
   "version": "2.7.12"
  }
 },
 "nbformat": 4,
 "nbformat_minor": 0
}
